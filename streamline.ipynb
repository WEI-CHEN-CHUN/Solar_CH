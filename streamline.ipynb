{
 "cells": [
  {
   "cell_type": "markdown",
   "metadata": {},
   "source": [
    "## import ##"
   ]
  },
  {
   "cell_type": "code",
   "execution_count": 2,
   "metadata": {},
   "outputs": [],
   "source": [
    "from scipy.io import readsav\n",
    "import matplotlib.colors as mcolors\n",
    "import numpy as np\n",
    "%matplotlib qt\n",
    "import matplotlib.pyplot as plt\n",
    "from mpl_toolkits.mplot3d import Axes3D\n",
    "import pyvista as pv\n",
    "import numpy as np\n",
    "import matplotlib.pyplot as plt\n",
    "from mpl_toolkits.mplot3d import Axes3D\n",
    "from scipy.interpolate import RegularGridInterpolator\n",
    "import pandas as pd\n"
   ]
  },
  {
   "cell_type": "code",
   "execution_count": 3,
   "metadata": {},
   "outputs": [
    {
     "name": "stderr",
     "output_type": "stream",
     "text": [
      "c:\\Users\\chjan\\AppData\\Local\\Programs\\Python\\Python310\\lib\\site-packages\\scipy\\io\\_idl.py:339: UserWarning: Using experimental 64-bit array read\n",
      "  rectypedesc = _read_typedesc(f)\n"
     ]
    },
    {
     "name": "stdout",
     "output_type": "stream",
     "text": [
      "shape: (1687, 1390, 501) (1687, 1390, 501) (1687, 1390, 501)\n"
     ]
    }
   ],
   "source": [
    "# 讀取 IDL 的 .sav 檔案\n",
    "data = readsav(\"C:/Users/chjan/HMI_output_20231104.sav\")\n",
    "\n",
    "# # 列出所有變數名稱 \n",
    "# print(data.keys())\n",
    "\n",
    "# 取出 BP3DZ 資料\n",
    "BP3DX = data[\"BP3DX\"].T\n",
    "BP3DY = data[\"BP3DY\"].T\n",
    "BP3DZ = data[\"BP3DZ\"].T\n",
    "print(\"shape:\", BP3DX.shape, BP3DY.shape, BP3DZ.shape)"
   ]
  },
  {
   "cell_type": "code",
   "execution_count": 24,
   "metadata": {},
   "outputs": [
    {
     "data": {
      "text/plain": [
       "numpy.ndarray"
      ]
     },
     "execution_count": 24,
     "metadata": {},
     "output_type": "execute_result"
    }
   ],
   "source": [
    "hmi = pd.read_csv('../read_data/hmi_20231104_cropped_sp.csv')\n",
    "hmi = hmi.to_numpy()\n",
    "hmi.shape\n",
    "type(hmi)\n"
   ]
  },
  {
   "cell_type": "code",
   "execution_count": 5,
   "metadata": {},
   "outputs": [],
   "source": [
    "# 假設 Bx, By, Bz, X, Y, Z 為已知的磁場向量場\n",
    "Bx, By, Bz = BP3DX, BP3DY, BP3DZ\n",
    "\n",
    "# print(Bz[154][126])\n"
   ]
  },
  {
   "cell_type": "code",
   "execution_count": 30,
   "metadata": {},
   "outputs": [
    {
     "name": "stdout",
     "output_type": "stream",
     "text": [
      "(1687, 1390) 1687\n"
     ]
    },
    {
     "name": "stderr",
     "output_type": "stream",
     "text": [
      "C:\\Users\\chjan\\AppData\\Local\\Temp\\ipykernel_18144\\1682308558.py:66: RuntimeWarning: divide by zero encountered in divide\n",
      "  hmi_scaled=(hmi-np.min(hmi))/(hmi-np.max(hmi))\n"
     ]
    },
    {
     "ename": "ValueError",
     "evalue": "can only convert an array of size 1 to a Python scalar",
     "output_type": "error",
     "traceback": [
      "\u001b[1;31m---------------------------------------------------------------------------\u001b[0m",
      "\u001b[1;31mValueError\u001b[0m                                Traceback (most recent call last)",
      "\u001b[1;32m~\\AppData\\Local\\Temp\\ipykernel_18144\\1682308558.py\u001b[0m in \u001b[0;36m<cell line: 68>\u001b[1;34m()\u001b[0m\n\u001b[0;32m     66\u001b[0m \u001b[0mhmi_scaled\u001b[0m\u001b[1;33m=\u001b[0m\u001b[1;33m(\u001b[0m\u001b[0mhmi\u001b[0m\u001b[1;33m-\u001b[0m\u001b[0mnp\u001b[0m\u001b[1;33m.\u001b[0m\u001b[0mmin\u001b[0m\u001b[1;33m(\u001b[0m\u001b[0mhmi\u001b[0m\u001b[1;33m)\u001b[0m\u001b[1;33m)\u001b[0m\u001b[1;33m/\u001b[0m\u001b[1;33m(\u001b[0m\u001b[0mhmi\u001b[0m\u001b[1;33m-\u001b[0m\u001b[0mnp\u001b[0m\u001b[1;33m.\u001b[0m\u001b[0mmax\u001b[0m\u001b[1;33m(\u001b[0m\u001b[0mhmi\u001b[0m\u001b[1;33m)\u001b[0m\u001b[1;33m)\u001b[0m\u001b[1;33m\u001b[0m\u001b[1;33m\u001b[0m\u001b[0m\n\u001b[0;32m     67\u001b[0m \u001b[1;32mfrom\u001b[0m \u001b[0mmatplotlib\u001b[0m\u001b[1;33m.\u001b[0m\u001b[0mcolors\u001b[0m \u001b[1;32mimport\u001b[0m \u001b[0mNormalize\u001b[0m \u001b[1;32mas\u001b[0m \u001b[0mnorm\u001b[0m\u001b[1;33m\u001b[0m\u001b[1;33m\u001b[0m\u001b[0m\n\u001b[1;32m---> 68\u001b[1;33m \u001b[0mcolors\u001b[0m\u001b[1;33m=\u001b[0m\u001b[0mplt\u001b[0m\u001b[1;33m.\u001b[0m\u001b[0mget_cmap\u001b[0m\u001b[1;33m(\u001b[0m\u001b[1;34m'gray'\u001b[0m\u001b[1;33m)\u001b[0m\u001b[1;33m(\u001b[0m\u001b[0mnorm\u001b[0m\u001b[1;33m(\u001b[0m\u001b[0mhmi\u001b[0m\u001b[1;33m)\u001b[0m\u001b[1;33m)\u001b[0m\u001b[1;33m\u001b[0m\u001b[1;33m\u001b[0m\u001b[0m\n\u001b[0m\u001b[0;32m     69\u001b[0m \u001b[1;33m\u001b[0m\u001b[0m\n\u001b[0;32m     70\u001b[0m ax.plot_surface(X_hmi,Y_hmi,Z_hmi, facecolors=colors, linewidth=0,\n",
      "\u001b[1;32m~\\AppData\\Roaming\\Python\\Python310\\site-packages\\matplotlib\\colors.py\u001b[0m in \u001b[0;36m__init__\u001b[1;34m(self, vmin, vmax, clip)\u001b[0m\n\u001b[0;32m   1133\u001b[0m         \u001b[0mReturns\u001b[0m \u001b[1;36m0\u001b[0m \u001b[1;32mif\u001b[0m\u001b[0;31m \u001b[0m\u001b[0;31m`\u001b[0m\u001b[0;31m`\u001b[0m\u001b[0mvmin\u001b[0m \u001b[1;33m==\u001b[0m \u001b[0mvmax\u001b[0m\u001b[0;31m`\u001b[0m\u001b[0;31m`\u001b[0m\u001b[1;33m.\u001b[0m\u001b[1;33m\u001b[0m\u001b[1;33m\u001b[0m\u001b[0m\n\u001b[0;32m   1134\u001b[0m         \"\"\"\n\u001b[1;32m-> 1135\u001b[1;33m         \u001b[0mself\u001b[0m\u001b[1;33m.\u001b[0m\u001b[0m_vmin\u001b[0m \u001b[1;33m=\u001b[0m \u001b[0m_sanitize_extrema\u001b[0m\u001b[1;33m(\u001b[0m\u001b[0mvmin\u001b[0m\u001b[1;33m)\u001b[0m\u001b[1;33m\u001b[0m\u001b[1;33m\u001b[0m\u001b[0m\n\u001b[0m\u001b[0;32m   1136\u001b[0m         \u001b[0mself\u001b[0m\u001b[1;33m.\u001b[0m\u001b[0m_vmax\u001b[0m \u001b[1;33m=\u001b[0m \u001b[0m_sanitize_extrema\u001b[0m\u001b[1;33m(\u001b[0m\u001b[0mvmax\u001b[0m\u001b[1;33m)\u001b[0m\u001b[1;33m\u001b[0m\u001b[1;33m\u001b[0m\u001b[0m\n\u001b[0;32m   1137\u001b[0m         \u001b[0mself\u001b[0m\u001b[1;33m.\u001b[0m\u001b[0m_clip\u001b[0m \u001b[1;33m=\u001b[0m \u001b[0mclip\u001b[0m\u001b[1;33m\u001b[0m\u001b[1;33m\u001b[0m\u001b[0m\n",
      "\u001b[1;32m~\\AppData\\Roaming\\Python\\Python310\\site-packages\\matplotlib\\colors.py\u001b[0m in \u001b[0;36m_sanitize_extrema\u001b[1;34m(ex)\u001b[0m\n\u001b[0;32m     98\u001b[0m         \u001b[1;32mreturn\u001b[0m \u001b[0mex\u001b[0m\u001b[1;33m\u001b[0m\u001b[1;33m\u001b[0m\u001b[0m\n\u001b[0;32m     99\u001b[0m     \u001b[1;32mtry\u001b[0m\u001b[1;33m:\u001b[0m\u001b[1;33m\u001b[0m\u001b[1;33m\u001b[0m\u001b[0m\n\u001b[1;32m--> 100\u001b[1;33m         \u001b[0mret\u001b[0m \u001b[1;33m=\u001b[0m \u001b[0mex\u001b[0m\u001b[1;33m.\u001b[0m\u001b[0mitem\u001b[0m\u001b[1;33m(\u001b[0m\u001b[1;33m)\u001b[0m\u001b[1;33m\u001b[0m\u001b[1;33m\u001b[0m\u001b[0m\n\u001b[0m\u001b[0;32m    101\u001b[0m     \u001b[1;32mexcept\u001b[0m \u001b[0mAttributeError\u001b[0m\u001b[1;33m:\u001b[0m\u001b[1;33m\u001b[0m\u001b[1;33m\u001b[0m\u001b[0m\n\u001b[0;32m    102\u001b[0m         \u001b[0mret\u001b[0m \u001b[1;33m=\u001b[0m \u001b[0mfloat\u001b[0m\u001b[1;33m(\u001b[0m\u001b[0mex\u001b[0m\u001b[1;33m)\u001b[0m\u001b[1;33m\u001b[0m\u001b[1;33m\u001b[0m\u001b[0m\n",
      "\u001b[1;31mValueError\u001b[0m: can only convert an array of size 1 to a Python scalar"
     ]
    }
   ],
   "source": [
    "# 定義空間格點 (假設 X, Y, Z 均勻分佈)\n",
    "Nx, Ny, Nz = Bx.shape\n",
    "x = np.linspace(0, Nx-1, Nx)  # X 軸範圍為 [0, Nx-1]\n",
    "y = np.linspace(0, Ny-1, Ny)  # Y 軸範圍為 [0, Ny-1]\n",
    "z = np.linspace(0, Nz-1, Nz)  # Z 軸範圍為 [0, Nz-1]\n",
    "\n",
    "def trace_fieldline(start_point, step=5, n_steps=2000):\n",
    "    \"\"\"\n",
    "    使用 Euler 方法追蹤磁場線\n",
    "    start_point: 初始點 (x, y, z)\n",
    "    step: 每步移動距離\n",
    "    n_steps: 最大步數\n",
    "    \"\"\"\n",
    "    traj = [start_point]  # 存儲磁場線上的點\n",
    "    point = np.array(start_point)\n",
    "    \n",
    "    for _ in range(n_steps):\n",
    "\n",
    "        px, py, pz = np.round(point).astype(int)\n",
    "        # 取得當前點的磁場值\n",
    "        B_vector = np.array([\n",
    "            Bx[px, py, pz],\n",
    "            By[px, py, pz],\n",
    "            Bz[px, py, pz]\n",
    "        ]).flatten()\n",
    "        # 若磁場過小，停止追蹤\n",
    "        norm = np.linalg.norm(B_vector)\n",
    "        if norm < 1e-6:\n",
    "            print(\"braek\")\n",
    "            break\n",
    "\n",
    "        # 歸一化方向，確保方向正確\n",
    "        B_vector /= np.abs(norm)\n",
    "        point = point + step * B_vector  # 沿磁場方向前進\n",
    "        traj.append(point.copy())\n",
    "        # 確保不超出範圍\n",
    "        if not (x[0] <= point[0] <= x[-1] and y[0] <= point[1] <= y[-1] and z[0] <= point[2] <= z[-1]):\n",
    "            break\n",
    "    return np.array(traj)\n",
    "\n",
    "# 3D 繪圖\n",
    "fig = plt.figure(figsize=(10, 8))\n",
    "ax = fig.add_subplot(111, projection='3d')\n",
    "\n",
    "# 定義幾個磁場線的起點\n",
    "# x, y 均勻分布在索引範圍內\n",
    "x_range =  np.round(np.linspace(0, Nx-1, 22)[1:-1])  # 取 10 個點\n",
    "y_range = np.round(np.linspace(0, Ny-1, 22)[1:-1])  # 取 10 個點\n",
    "\n",
    "# 生成 (x, y) 網格，z=0\n",
    "X_grid, Y_grid = np.meshgrid(x_range, y_range)\n",
    "Z_grid = np.zeros_like(X_grid)  # 全部 z=0\n",
    "\n",
    "# 組成 start_points\n",
    "start_points = np.column_stack((X_grid.ravel(), Y_grid.ravel(), Z_grid.ravel()))\n",
    "\n",
    "for sp in start_points:\n",
    "    traj = trace_fieldline(sp)\n",
    "    if len(traj)>2:\n",
    "        ax.plot3D(traj[:, 0], traj[:, 1], traj[:, 2], color='r')\n",
    "\n",
    "# **繪製 HMI 磁場 (Z=0)**\n",
    "X_hmi, Y_hmi = np.meshgrid(np.arange(Nx), np.arange(Ny), indexing='ij')  # 使用 HMI 原始大小\n",
    "Z_hmi = np.zeros_like(X_hmi)\n",
    "print(X_hmi.shape,Nx)\n",
    "hmi_scaled=(hmi-np.min(hmi))/(hmi-np.max(hmi))\n",
    "from matplotlib.colors import Normalize as norm \n",
    "colors=plt.get_cmap('gray')(norm(hmi))\n",
    "\n",
    "ax.plot_surface(X_hmi,Y_hmi,Z_hmi, facecolors=colors, linewidth=0,\n",
    "                alpha=1, edgecolors='none')\n",
    "\n",
    "\n",
    "\n",
    "ax.set_xlabel('X')\n",
    "ax.set_ylabel('Y')\n",
    "ax.set_zlabel('Z')\n",
    "ax.set_xlim(x[0], x[-1])\n",
    "ax.set_ylim(y[0], y[-1])\n",
    "# ax.set_zlim(z[0], z[-1])\n",
    "ax.set_title('3D streamline')\n",
    "\n",
    "plt.show()\n"
   ]
  },
  {
   "cell_type": "code",
   "execution_count": null,
   "metadata": {},
   "outputs": [],
   "source": []
  }
 ],
 "metadata": {
  "kernelspec": {
   "display_name": "Python 3",
   "language": "python",
   "name": "python3"
  },
  "language_info": {
   "codemirror_mode": {
    "name": "ipython",
    "version": 3
   },
   "file_extension": ".py",
   "mimetype": "text/x-python",
   "name": "python",
   "nbconvert_exporter": "python",
   "pygments_lexer": "ipython3",
   "version": "3.10.7"
  }
 },
 "nbformat": 4,
 "nbformat_minor": 2
}
